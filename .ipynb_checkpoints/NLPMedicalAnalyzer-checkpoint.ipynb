{
 "cells": [
  {
   "cell_type": "markdown",
   "metadata": {
    "colab_type": "text",
    "id": "view-in-github"
   },
   "source": [
    "<a href=\"https://colab.research.google.com/github/isaashka/NLPMedicalAnalyzer/blob/main/NLPMedicalAnalyzer.ipynb\" target=\"_parent\"><img src=\"https://colab.research.google.com/assets/colab-badge.svg\" alt=\"Open In Colab\"/></a>"
   ]
  },
  {
   "cell_type": "markdown",
   "metadata": {},
   "source": [
    "# Medical Analyzer"
   ]
  },
  {
   "cell_type": "markdown",
   "metadata": {
    "id": "Q3CLxyK4kjm0"
   },
   "source": [
    "# Imports"
   ]
  },
  {
   "cell_type": "code",
   "execution_count": 2,
   "metadata": {},
   "outputs": [
    {
     "name": "stderr",
     "output_type": "stream",
     "text": [
      "2024-06-05 19:36:38.123 Python[6124:158429] WARNING: Secure coding is not enabled for restorable state! Enable secure coding by implementing NSApplicationDelegate.applicationSupportsSecureRestorableState: and returning YES.\n"
     ]
    },
    {
     "name": "stdout",
     "output_type": "stream",
     "text": [
      "showing info https://raw.githubusercontent.com/nltk/nltk_data/gh-pages/index.xml\n"
     ]
    },
    {
     "data": {
      "text/plain": [
       "True"
      ]
     },
     "execution_count": 2,
     "metadata": {},
     "output_type": "execute_result"
    }
   ],
   "source": [
    "import nltk\n",
    "import ssl\n",
    "\n",
    "try:\n",
    "    _create_unverified_https_context = ssl._create_unverified_context\n",
    "except AttributeError:\n",
    "    pass\n",
    "else:\n",
    "    ssl._create_default_https_context = _create_unverified_https_context\n",
    "\n",
    "nltk.download()"
   ]
  },
  {
   "cell_type": "code",
   "execution_count": 3,
   "metadata": {
    "id": "FzF6mi4KbJWs"
   },
   "outputs": [
    {
     "name": "stderr",
     "output_type": "stream",
     "text": [
      "[nltk_data] Downloading package wordnet to /Users/sasha/nltk_data...\n",
      "[nltk_data]   Package wordnet is already up-to-date!\n",
      "[nltk_data] Downloading package punkt to /Users/sasha/nltk_data...\n",
      "[nltk_data]   Package punkt is already up-to-date!\n"
     ]
    },
    {
     "data": {
      "text/plain": [
       "True"
      ]
     },
     "execution_count": 3,
     "metadata": {},
     "output_type": "execute_result"
    }
   ],
   "source": [
    "# General imports\n",
    "import os\n",
    "import numpy as np\n",
    "import nltk\n",
    "import pandas as pd\n",
    "from nltk.probability import FreqDist\n",
    "from nltk import word_tokenize\n",
    "from nltk.corpus import wordnet as wn\n",
    "from nltk.stem import WordNetLemmatizer\n",
    "\n",
    "nltk.download('wordnet')\n",
    "nltk.download('punkt')"
   ]
  },
  {
   "cell_type": "code",
   "execution_count": 4,
   "metadata": {},
   "outputs": [],
   "source": [
    "# Model specific imports\n",
    "from decimal import Decimal\n",
    "import pandas as pd\n",
    "from sklearn.svm import SVC\n",
    "from sklearn.metrics import accuracy_score\n",
    "from sklearn.metrics import mean_squared_error\n",
    "from sklearn.model_selection import train_test_split, cross_val_score\n",
    "from sklearn.metrics import precision_score, recall_score, f1_score\n",
    "from nltk.util import ngrams\n",
    "\n",
    "from sklearn.naive_bayes import MultinomialNB\n",
    "\n",
    "import matplotlib.pyplot as plt"
   ]
  },
  {
   "cell_type": "code",
   "execution_count": 5,
   "metadata": {},
   "outputs": [],
   "source": [
    "# unused\n",
    "from sklearn.ensemble import RandomForestClassifier\n",
    "from sklearn.neural_network import MLPClassifier\n",
    "from sklearn.tree import DecisionTreeClassifier\n",
    "from sklearn.linear_model import LogisticRegression\n",
    "from sklearn.neighbors import KNeighborsClassifier\n",
    "from sklearn.model_selection import GridSearchCV"
   ]
  },
  {
   "cell_type": "markdown",
   "metadata": {
    "id": "XSDZHGxxbS4O"
   },
   "source": [
    "# Data Preprocessing\n",
    "### Convert: user input --> symptoms"
   ]
  },
  {
   "cell_type": "code",
   "execution_count": 6,
   "metadata": {},
   "outputs": [
    {
     "data": {
      "text/plain": [
       "['abdominal cramp',\n",
       " 'abdominal distention',\n",
       " 'abnormal behavior',\n",
       " 'abnormal bleeding',\n",
       " 'abnormal sensation',\n",
       " 'abnormally frequent',\n",
       " 'abscess',\n",
       " 'aching',\n",
       " 'acne',\n",
       " 'acquiring drinking alcohol taking lot time',\n",
       " 'affected part turning white',\n",
       " 'anemia',\n",
       " 'anxiety',\n",
       " 'arm',\n",
       " 'attack pain',\n",
       " 'back',\n",
       " 'bacterial infection',\n",
       " 'bad breath',\n",
       " 'bad smelling thin vaginal discharge',\n",
       " 'bad smelling vaginal discharge',\n",
       " 'barky cough',\n",
       " 'belching',\n",
       " 'better sitting worse lying',\n",
       " 'birth baby younger week gestational age',\n",
       " 'bleeding gum',\n",
       " 'bleeding skin',\n",
       " 'blindness',\n",
       " 'blindness one eye',\n",
       " 'blister sunlight',\n",
       " 'bloating',\n",
       " 'blood stool',\n",
       " 'blood urine',\n",
       " 'bloody diarrhea',\n",
       " 'blue',\n",
       " 'bluish skin coloration',\n",
       " 'blurred vision',\n",
       " 'blurry vision',\n",
       " 'body tremor',\n",
       " 'bone pain',\n",
       " 'bowed leg',\n",
       " 'breakdown skeletal muscle',\n",
       " 'breathing problem',\n",
       " 'bruising',\n",
       " 'burning',\n",
       " 'burning redness eye',\n",
       " 'burning stabbing pain',\n",
       " 'burning urination',\n",
       " 'certain thought repeatedly',\n",
       " 'change bowel movement',\n",
       " 'change breast shape',\n",
       " 'change color',\n",
       " 'change hair',\n",
       " 'change reflex',\n",
       " 'change skin color red black',\n",
       " 'change sleeping eating pattern',\n",
       " 'change taste',\n",
       " 'change voice',\n",
       " 'characteristic facial feature',\n",
       " 'characteristic rash',\n",
       " 'chest discomfort',\n",
       " 'chest pain',\n",
       " 'chest tightness',\n",
       " 'chill',\n",
       " 'chronic cough',\n",
       " 'chronic pain bladder',\n",
       " 'clenched fist overlapping finger',\n",
       " 'close object appear blurry',\n",
       " 'clumsy',\n",
       " 'cm lump skin',\n",
       " 'cold sweat',\n",
       " 'coma',\n",
       " 'confused thinking',\n",
       " 'confusion',\n",
       " 'constipation',\n",
       " 'coolness',\n",
       " 'coordination',\n",
       " 'cough bloody mucus',\n",
       " 'cough sputum production',\n",
       " 'coughing',\n",
       " 'coughing blood',\n",
       " 'coughing including coughing blood',\n",
       " 'coughing mucus',\n",
       " 'crawl',\n",
       " 'cry episode',\n",
       " 'dark urine',\n",
       " 'darker',\n",
       " 'daytime sleepiness',\n",
       " 'death child le one year age',\n",
       " 'decreased ability feel pain',\n",
       " 'decreased ability see',\n",
       " 'decreased ability think',\n",
       " 'decreased ability think remember',\n",
       " 'decreased ability turn',\n",
       " 'decreased appetite',\n",
       " 'decreased motivation',\n",
       " 'decreased range motion',\n",
       " 'decreased taste',\n",
       " 'decreased vision',\n",
       " 'dehydration',\n",
       " 'delayed physical growth',\n",
       " 'delirium',\n",
       " 'delusion',\n",
       " 'dementia',\n",
       " 'depending subtype abdominal pain',\n",
       " 'depends organ involved',\n",
       " 'depressed mood',\n",
       " 'depression',\n",
       " 'dermatitis herpetiformis',\n",
       " 'developmental disability',\n",
       " 'diarrhea',\n",
       " 'diarrhea may bloody',\n",
       " 'diarrhea mixed blood',\n",
       " 'diarrhoea',\n",
       " 'difficulty breathing',\n",
       " 'difficulty cutting',\n",
       " 'difficulty eating',\n",
       " 'difficulty getting pregnant',\n",
       " 'difficulty remembering recent event',\n",
       " 'difficulty swallowing',\n",
       " 'difficulty walking',\n",
       " 'dimpling skin',\n",
       " 'discharge penis',\n",
       " 'disorientation',\n",
       " 'distant object appear blurry',\n",
       " 'distorted blurred vision distance',\n",
       " 'dizziness',\n",
       " 'double vision',\n",
       " 'drinking large amount alcohol long period',\n",
       " 'drooping eyelid',\n",
       " 'dry cough',\n",
       " 'dry damp skin',\n",
       " 'dry eye',\n",
       " 'dry mouth',\n",
       " 'ear pain',\n",
       " 'easy prolonged bleeding',\n",
       " 'emotional problem',\n",
       " 'enlarged lymph node neck',\n",
       " 'enlarged spleen',\n",
       " 'enlarged thyroid',\n",
       " 'enlargement thyroid',\n",
       " 'enlargement tonsil',\n",
       " 'episode severe',\n",
       " 'erythema marginatum',\n",
       " 'excess hair',\n",
       " 'excessive amount uterine bleeding',\n",
       " 'excessive daytime sleepiness',\n",
       " 'excessive salivation',\n",
       " 'expanding area redness site tick bite',\n",
       " 'extreme sadness',\n",
       " 'extremity weakness',\n",
       " 'eye pain',\n",
       " 'eye strain',\n",
       " 'eyestrain',\n",
       " 'fast heart rate',\n",
       " 'fast heartbeat',\n",
       " 'fatigue',\n",
       " 'fear water',\n",
       " 'feel need check thing repeatedly',\n",
       " 'feeling cold',\n",
       " 'feeling faint upon standing',\n",
       " 'feeling generally unwell',\n",
       " 'feeling like passing',\n",
       " 'feeling need urinate right away',\n",
       " 'feeling tired',\n",
       " 'feeling tired time',\n",
       " 'fever',\n",
       " 'firm',\n",
       " 'flat discolored spot bump may blister',\n",
       " 'flu like illness',\n",
       " 'flu like symptom',\n",
       " 'fluid filled blister scab',\n",
       " 'fluid nipple',\n",
       " 'frequent infection',\n",
       " 'frequent urination',\n",
       " 'fullness',\n",
       " 'gas',\n",
       " 'gradual loss coordination',\n",
       " 'growth delay',\n",
       " 'gum disease',\n",
       " 'hair loss',\n",
       " 'half ring finger',\n",
       " 'hallucination',\n",
       " 'hallucination usually hearing voice',\n",
       " 'hard swelling skin',\n",
       " 'hard time reading small print',\n",
       " 'headache',\n",
       " 'hearing loss',\n",
       " 'hearing sound external sound present',\n",
       " 'heartburn',\n",
       " 'heat intolerance',\n",
       " 'heavy period',\n",
       " 'high blood pressure',\n",
       " 'high body temperature',\n",
       " 'hoarse voice',\n",
       " 'hold reading material farther away',\n",
       " 'impaired communication',\n",
       " 'inability child',\n",
       " 'inability move facial muscle one side',\n",
       " 'inability move feel one side body',\n",
       " 'increased breath rate',\n",
       " 'increased breathing rate',\n",
       " 'increased fat',\n",
       " 'increased heart rate',\n",
       " 'increased hunger',\n",
       " 'increased risk broken bone',\n",
       " 'increased risk infection',\n",
       " 'increased thirst',\n",
       " 'increasing weakening',\n",
       " 'index',\n",
       " 'infertility',\n",
       " 'inflamed eye',\n",
       " 'insomnia',\n",
       " 'intellectual disability',\n",
       " 'involuntary muscle movement',\n",
       " 'involuntary sleep episode',\n",
       " 'irregular edge',\n",
       " 'irregular menstrual period',\n",
       " 'irregular menstruation',\n",
       " 'irritability',\n",
       " 'irritation',\n",
       " 'itchiness',\n",
       " 'itching',\n",
       " 'itching genital area',\n",
       " 'itching result trouble sleeping',\n",
       " 'itchy',\n",
       " 'itchy blister',\n",
       " 'itchy bump',\n",
       " 'itchy ear',\n",
       " 'jaundice',\n",
       " 'jaw',\n",
       " 'jerky body movement',\n",
       " 'joint bone pain',\n",
       " 'joint swelling',\n",
       " 'large amount watery diarrhea',\n",
       " 'large forehead',\n",
       " 'large lymph node',\n",
       " 'large lymph node around neck',\n",
       " 'leg swelling',\n",
       " 'light sensitivity',\n",
       " 'little pain',\n",
       " 'localized breast pain redness',\n",
       " 'long term fatigue',\n",
       " 'loose frequent bowel movement',\n",
       " 'loose teeth',\n",
       " 'loss appetite',\n",
       " 'loss consciousness may sweating',\n",
       " 'loss hair part head body',\n",
       " 'loss lot blood childbirth',\n",
       " 'loss smell',\n",
       " 'loss vision one side',\n",
       " 'low blood pressure',\n",
       " 'low energy',\n",
       " 'low red blood cell',\n",
       " 'lower abdominal pain',\n",
       " 'lump breast',\n",
       " 'lump bump neck',\n",
       " 'maculopapular rash',\n",
       " 'malabsorption',\n",
       " 'may symptom',\n",
       " 'memory problem',\n",
       " 'mental ability',\n",
       " 'mental change',\n",
       " 'mid dilated pupil',\n",
       " 'middle finger',\n",
       " 'mild moderate intellectual disability',\n",
       " 'minimal',\n",
       " 'missed period',\n",
       " 'mole increasing size',\n",
       " 'mood change',\n",
       " 'mood swing',\n",
       " 'mouth sore',\n",
       " 'mouth ulcer',\n",
       " 'multiple painful joint',\n",
       " 'muscle ache difficulty breathing',\n",
       " 'muscle cramp',\n",
       " 'muscle joint pain',\n",
       " 'muscle spasm',\n",
       " 'muscle weakness',\n",
       " 'muscle weakness beginning foot hand',\n",
       " 'muscle weakness resulting inability move',\n",
       " 'muscular pain',\n",
       " 'myalgia',\n",
       " 'nausea',\n",
       " 'nausea vomiting',\n",
       " 'nausea vomiting weight loss dehydration occur',\n",
       " 'nearly undetectable spell',\n",
       " 'nearsightedness',\n",
       " 'neck',\n",
       " 'neck stiffness',\n",
       " 'needing urinate often',\n",
       " 'newly inverted nipple',\n",
       " 'non itchy skin ulcer',\n",
       " 'non painful cyst middle eyelid',\n",
       " 'nonaligned eye',\n",
       " 'none non specific',\n",
       " 'numbness',\n",
       " 'object different size eye',\n",
       " 'one eye myopia eye hyperopia',\n",
       " 'opening upper lip may extend nose palate',\n",
       " 'others',\n",
       " 'overlying redness',\n",
       " 'pain along inside edge shinbone',\n",
       " 'pain area',\n",
       " 'pain around ear',\n",
       " 'pain doesnt go shingle',\n",
       " 'pain going leg lower back',\n",
       " 'pain sex',\n",
       " 'pain specific bone',\n",
       " 'painful',\n",
       " 'painful blister lower leg',\n",
       " 'painful heavy period',\n",
       " 'painful joint base big toe',\n",
       " 'painful rash occurring stripe',\n",
       " 'painful skin',\n",
       " 'painful swelling parotid gland',\n",
       " 'painful swollen joint',\n",
       " 'painful tender outer part elbow',\n",
       " 'painless',\n",
       " 'painless lump',\n",
       " 'pale color',\n",
       " 'pale skin',\n",
       " 'pallor',\n",
       " 'paralysis',\n",
       " 'patch thick',\n",
       " 'patch white skin',\n",
       " 'perform certain routine repeatedly',\n",
       " 'period vigorous shaking',\n",
       " 'persistent rough white red patch mouth lasting longer week',\n",
       " 'photophobia',\n",
       " 'physical disability',\n",
       " 'pimple like rash',\n",
       " 'pinkish',\n",
       " 'playing video game extremely long period time',\n",
       " 'poor ability tolerate cold',\n",
       " 'poor appetite',\n",
       " 'poor coordination',\n",
       " 'poor tolerance heat',\n",
       " 'post nasal drip',\n",
       " 'problem language',\n",
       " 'problem mood',\n",
       " 'problem understanding speaking',\n",
       " 'problem vision',\n",
       " 'profuse sweating',\n",
       " 'progressive muscle weakness',\n",
       " 'prolonged',\n",
       " 'prolonged cough',\n",
       " 'prominent',\n",
       " 'protein urine',\n",
       " 'psychosis',\n",
       " 'pulsing pain',\n",
       " 'purple colored skin affected area',\n",
       " 'purple colored skin lesion',\n",
       " 'raised',\n",
       " 'raised red blue lesion',\n",
       " 'random outburst laughter',\n",
       " 'rapid breathing',\n",
       " 'recurring episode wheezing',\n",
       " 'red',\n",
       " 'red eye',\n",
       " 'red purple darker skin',\n",
       " 'red rash',\n",
       " 'red scaly patch skin breast',\n",
       " 'red skin',\n",
       " 'red spot white eye',\n",
       " 'red without blister',\n",
       " 'reddish eye',\n",
       " 'redness',\n",
       " 'redness eye',\n",
       " 'repetitive behavior',\n",
       " 'restricted interest',\n",
       " 'right lower abdominal pain',\n",
       " 'rigidity',\n",
       " 'ringing ear heartbeat',\n",
       " 'rough skin growth',\n",
       " 'runny nose',\n",
       " 'scaly patch skin',\n",
       " 'scratchiness',\n",
       " 'seizure',\n",
       " 'sensitivity smell',\n",
       " 'sensitivity sound',\n",
       " 'severe intellectual disability',\n",
       " 'severe pain',\n",
       " 'severe pain lower back abdomen',\n",
       " 'shakiness',\n",
       " 'shaking',\n",
       " 'sharp chest pain',\n",
       " 'shivering',\n",
       " 'shock like pain one side face last second minute',\n",
       " 'short height',\n",
       " 'short stature',\n",
       " 'shortness breath',\n",
       " 'sit',\n",
       " 'skin blister',\n",
       " 'skin breakdown',\n",
       " 'skin lesion generally pink color project outward',\n",
       " 'skin peeling',\n",
       " 'sleep problem',\n",
       " 'sleeping problem',\n",
       " 'slowness movement',\n",
       " 'small',\n",
       " 'small blister break open form painful ulcer',\n",
       " 'small blister surrounding swelling',\n",
       " 'small face',\n",
       " 'small head',\n",
       " 'small jaw',\n",
       " 'sneezing',\n",
       " 'social withdrawal',\n",
       " 'sometimes symptom',\n",
       " 'sore arm leg',\n",
       " 'sore throat',\n",
       " 'sore wrist',\n",
       " 'stiff muscle',\n",
       " 'stiff neck',\n",
       " 'stiffness',\n",
       " 'stomach pain',\n",
       " 'stroke',\n",
       " 'stuffy itchy nose',\n",
       " 'stunted growth',\n",
       " 'sudden',\n",
       " 'sudden loss muscle strength',\n",
       " 'sweat',\n",
       " 'swell pain near tumor',\n",
       " 'swelling',\n",
       " 'swelling abdomen',\n",
       " 'swelling around eye',\n",
       " 'swelling hand foot',\n",
       " 'swollen',\n",
       " 'swollen hand foot',\n",
       " 'swollen lymph node',\n",
       " 'taste acid',\n",
       " 'temporary fleeting vision one eye',\n",
       " 'tender breast',\n",
       " 'testicular pain',\n",
       " 'tingling',\n",
       " 'tingling hand foot',\n",
       " 'tingling thumb',\n",
       " 'tiredness',\n",
       " 'tooth loss',\n",
       " 'tremor',\n",
       " 'triangular tissue growth cornea',\n",
       " 'trouble breathing nose',\n",
       " 'trouble coordination',\n",
       " 'trouble opening mouth',\n",
       " 'trouble seeing',\n",
       " 'trouble sensation',\n",
       " 'trouble sleeping',\n",
       " 'trouble social interaction',\n",
       " 'trouble speaking',\n",
       " 'trouble swallowing',\n",
       " 'trouble talking',\n",
       " 'trouble walking',\n",
       " 'typically none',\n",
       " 'ulcer',\n",
       " 'ulcer around genitals',\n",
       " 'ulceration',\n",
       " 'unable move',\n",
       " 'unexplained weight loss',\n",
       " 'unintended weight loss',\n",
       " 'unpleasant smell present breath',\n",
       " 'upper abdominal pain',\n",
       " 'usage resulting problem',\n",
       " 'vaginal bleeding',\n",
       " 'vaginal bleeding without pain',\n",
       " 'vaginal discharge',\n",
       " 'variable',\n",
       " 'vary depending part brain involved',\n",
       " 'varying degree muscle weakness',\n",
       " 'velvety skin',\n",
       " 'vision loss',\n",
       " 'vomiting',\n",
       " 'warm',\n",
       " 'wart',\n",
       " 'watery eye',\n",
       " 'weak grip',\n",
       " 'weak muscle',\n",
       " 'weakness limb',\n",
       " 'weakness numbness affected leg',\n",
       " 'webbed neck',\n",
       " 'weight gain',\n",
       " 'wet',\n",
       " 'wheezing',\n",
       " 'white patch vaginal discharge',\n",
       " 'widespread pain',\n",
       " 'withdrawal occurring stopping',\n",
       " 'worrying',\n",
       " 'yellow skin',\n",
       " 'yellowish coloration skin white eye',\n",
       " 'yellowish skin',\n",
       " 'yellowish skin crust']"
      ]
     },
     "execution_count": 6,
     "metadata": {},
     "output_type": "execute_result"
    }
   ],
   "source": [
    "# load the dataset\n",
    "symptoms_dataset = pd.read_csv(\"Dataset/dis_sym_dataset_comb.csv\")\n",
    "\n",
    "# extract features to use as a symptom array\n",
    "X = symptoms_dataset.iloc[:, 1:]\n",
    "dataset_symptoms = list(X.columns)\n",
    "dataset_symptoms"
   ]
  },
  {
   "cell_type": "code",
   "execution_count": 7,
   "metadata": {},
   "outputs": [],
   "source": [
    "# Tokenizer class\n",
    "class Tokenizer:\n",
    "  def __init__(self, lowercase=False):\n",
    "    self.lowercase = lowercase  # If this is True, convert text to lowercase while tokenizing.\n",
    "    self.vocab = []\n",
    "\n",
    "  def tokenize(self, string):\n",
    "    tokens = word_tokenize(string)\n",
    "    self.vocab += [w for w in set(tokens) if w not in self.vocab]\n",
    "\n",
    "    return tokens"
   ]
  },
  {
   "cell_type": "code",
   "execution_count": 8,
   "metadata": {},
   "outputs": [],
   "source": [
    "def find_symptom_phrases(tokens, symptom_keywords, body_parts, n=2):\n",
    "    symptom_phrases = []\n",
    "    ngrams_list = list(ngrams(tokens, n))\n",
    "\n",
    "    for ngram in ngrams_list:\n",
    "        for keyword in symptom_keywords:\n",
    "            for body_part in body_parts:\n",
    "                if keyword in ngram and body_part in ngram:\n",
    "                    symptom_phrases.append(' '.join(ngram))\n",
    "\n",
    "    return symptom_phrases\n",
    "\n",
    "# Lemmatize input\n",
    "def lemmatize_tokens(tokens):\n",
    "    lemmatizer = nltk.WordNetLemmatizer()\n",
    "    lemmatized_tokens = []  \n",
    "    for token in tokens:\n",
    "        lemmatized_tokens.append(lemmatizer.lemmatize(token))\n",
    "    return lemmatized_tokens\n",
    "\n",
    "def tokenize_user_symptoms():\n",
    "    print(\"Enter symptoms: \")\n",
    "    symptoms = input()\n",
    "    # tokenize input\n",
    "    symptom_tokens = word_tokenize(symptoms)\n",
    "\n",
    "    # lemmatize input\n",
    "    symptom_tokens_lemmatized = lemmatize_tokens(symptom_tokens)\n",
    "\n",
    "    # find symptom phrases using n-grams\n",
    "    symptom_phrases = find_symptom_phrases(symptom_tokens_lemmatized, \\\n",
    "                                           dataset_symptoms, dataset_symptoms) # dataset_symptoms = symptoms retrieved from the dataset\n",
    "    \n",
    "    return symptom_phrases"
   ]
  },
  {
   "cell_type": "code",
   "execution_count": 9,
   "metadata": {},
   "outputs": [
    {
     "name": "stdout",
     "output_type": "stream",
     "text": [
      "Enter symptoms: \n"
     ]
    },
    {
     "name": "stdin",
     "output_type": "stream",
     "text": [
      " I have been having migraines and headaches. I can't sleep. My whole body is shaking and shivering. I feel dizzy sometimes\n"
     ]
    },
    {
     "name": "stdout",
     "output_type": "stream",
     "text": [
      "['and headache', 'headache .', 'is shaking', 'shaking and', 'and shivering', 'shivering .']\n"
     ]
    }
   ],
   "source": [
    "# I have been having migraines and headaches. I can't sleep. My whole body is shaking and shivering. I feel dizzy sometimes\n",
    "print(tokenize_user_symptoms())"
   ]
  },
  {
   "cell_type": "code",
   "execution_count": null,
   "metadata": {},
   "outputs": [],
   "source": []
  },
  {
   "cell_type": "markdown",
   "metadata": {},
   "source": [
    "# Models"
   ]
  },
  {
   "cell_type": "code",
   "execution_count": 10,
   "metadata": {},
   "outputs": [],
   "source": [
    "# lists used for accuracy plots\n",
    "\n",
    "model_list = []\n",
    "f1_scores = []\n",
    "accuracies = []"
   ]
  },
  {
   "cell_type": "markdown",
   "metadata": {},
   "source": [
    "### Dataset"
   ]
  },
  {
   "cell_type": "code",
   "execution_count": 11,
   "metadata": {},
   "outputs": [],
   "source": [
    "# load the dataset\n",
    "symptoms_dataset = pd.read_csv(\"Dataset/dis_sym_dataset_comb.csv\")\n",
    "\n",
    "# separate the features and labels\n",
    "X = symptoms_dataset.iloc[:, 1:]\n",
    "Y = symptoms_dataset.iloc[:, 0:1]\n",
    "\n",
    "# convert Y (labels) to a 1D array \n",
    "y_array = Y.to_numpy() if isinstance(Y, pd.Series) else Y.values\n",
    "Y = y_array.ravel()"
   ]
  },
  {
   "cell_type": "code",
   "execution_count": 12,
   "metadata": {},
   "outputs": [],
   "source": [
    "# split data into train and test sets\n",
    "x_train, x_test, y_train, y_test = train_test_split(X, Y, test_size = 0.10)     "
   ]
  },
  {
   "cell_type": "markdown",
   "metadata": {},
   "source": [
    "### Evaluate the Model"
   ]
  },
  {
   "cell_type": "code",
   "execution_count": 13,
   "metadata": {},
   "outputs": [],
   "source": [
    "# fit model according to its type and make predictions\n",
    "def fit_and_predict(classifier, model_type):\n",
    "    classifier = classifier.fit(X, Y)\n",
    "\n",
    "    # Predict on the test set\n",
    "    y_pred = classifier.predict(x_test)\n",
    "    \n",
    "    precision, recall, f1, accuracy = evaluate_model(y_test, y_pred, model_type)\n",
    "    print_evaluation_metrics(precision, recall, f1, accuracy)\n",
    "\n",
    "# Evaluate the model on different metrics\n",
    "def evaluate_model(y_test, y_pred, model_type):\n",
    "    # Calculate precision, recall, and F1-score for each class and then compute the macro average\n",
    "    precision = round(Decimal(precision_score(y_test, y_pred, average='macro', zero_division=1) * 100), 2)\n",
    "    recall= round(Decimal(recall_score(y_test, y_pred, average='macro', zero_division=1) * 100), 2)\n",
    "    f1= round(Decimal(f1_score(y_test, y_pred, average='macro') * 100), 2)\n",
    "    \n",
    "    # calculate accuracy\n",
    "    accuracy = round(Decimal(accuracy_score(y_test, y_pred) * 100), 2)\n",
    "    \n",
    "    # Add metrics to overall arrays used later for graphing\n",
    "    model_list.append(model_type)\n",
    "    f1_scores.append(f1)\n",
    "    accuracies.append(accuracy)\n",
    "\n",
    "    return precision, recall, f1, accuracy\n",
    "    \n",
    "def print_evaluation_metrics(precision, recall, f1, accuracy):\n",
    "    print(f'Macro-average Precision: {precision}%')\n",
    "    print(f'Macro-average Recall: {recall}%')\n",
    "    print(f'Macro-average F1-score: {f1}%')\n",
    "    print(f'Accuracy: {accuracy}%')\n"
   ]
  },
  {
   "cell_type": "code",
   "execution_count": 14,
   "metadata": {},
   "outputs": [],
   "source": [
    "# prints all model names and their f1 score and accuracy\n",
    "def print_all_metrics():\n",
    "    for i in range(len(model_list)):\n",
    "        print(f'Model: {model_list[i]}, f1 = {f1_scores[i]} accuracy = {accuracies[i]}')\n",
    "        # print(model_list[i], f1_scores[i], accuracies[i])"
   ]
  },
  {
   "cell_type": "markdown",
   "metadata": {},
   "source": [
    "### Multinomial Naive Bayes"
   ]
  },
  {
   "cell_type": "code",
   "execution_count": 15,
   "metadata": {},
   "outputs": [
    {
     "name": "stdout",
     "output_type": "stream",
     "text": [
      "Macro-average Precision: 94.03%\n",
      "Macro-average Recall: 57.59%\n",
      "Macro-average F1-score: 57.23%\n",
      "Accuracy: 85.07%\n"
     ]
    }
   ],
   "source": [
    "# Train the Naive Bayes classifier\n",
    "mnb = MultinomialNB()\n",
    "fit_and_predict(mnb, 'MultinomialNaiveBayes')"
   ]
  },
  {
   "cell_type": "markdown",
   "metadata": {},
   "source": [
    "### Support Vector Machine"
   ]
  },
  {
   "cell_type": "code",
   "execution_count": 16,
   "metadata": {},
   "outputs": [
    {
     "name": "stdout",
     "output_type": "stream",
     "text": [
      "Macro-average Precision: 93.10%\n",
      "Macro-average Recall: 69.63%\n",
      "Macro-average F1-score: 68.76%\n",
      "Accuracy: 89.25%\n"
     ]
    }
   ],
   "source": [
    "# Train the Support Vector Machine classifier\n",
    "svm = SVC()\n",
    "fit_and_predict(svm, 'SupportVectorMachine')"
   ]
  },
  {
   "cell_type": "markdown",
   "metadata": {},
   "source": [
    "### Logistic Regression"
   ]
  },
  {
   "cell_type": "code",
   "execution_count": 17,
   "metadata": {},
   "outputs": [
    {
     "name": "stdout",
     "output_type": "stream",
     "text": [
      "Macro-average Precision: 92.46%\n",
      "Macro-average Recall: 71.30%\n",
      "Macro-average F1-score: 69.28%\n",
      "Accuracy: 89.14%\n"
     ]
    }
   ],
   "source": [
    "# Train the Support Vector Machine classifier\n",
    "lr = LogisticRegression()\n",
    "fit_and_predict(lr, 'LogisticRegression')"
   ]
  },
  {
   "cell_type": "code",
   "execution_count": 18,
   "metadata": {},
   "outputs": [
    {
     "name": "stdout",
     "output_type": "stream",
     "text": [
      "Model: MultinomialNaiveBayes, f1 = 57.23 accuracy = 85.07\n",
      "Model: SupportVectorMachine, f1 = 68.76 accuracy = 89.25\n",
      "Model: LogisticRegression, f1 = 69.28 accuracy = 89.14\n"
     ]
    }
   ],
   "source": [
    "print_all_metrics()"
   ]
  },
  {
   "cell_type": "code",
   "execution_count": null,
   "metadata": {},
   "outputs": [],
   "source": []
  }
 ],
 "metadata": {
  "colab": {
   "include_colab_link": true,
   "provenance": []
  },
  "kernelspec": {
   "display_name": "Python 3 (ipykernel)",
   "language": "python",
   "name": "python3"
  },
  "language_info": {
   "codemirror_mode": {
    "name": "ipython",
    "version": 3
   },
   "file_extension": ".py",
   "mimetype": "text/x-python",
   "name": "python",
   "nbconvert_exporter": "python",
   "pygments_lexer": "ipython3",
   "version": "3.10.5"
  }
 },
 "nbformat": 4,
 "nbformat_minor": 4
}
