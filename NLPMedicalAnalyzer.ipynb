{
 "cells": [
  {
   "cell_type": "markdown",
   "metadata": {
    "colab_type": "text",
    "id": "view-in-github"
   },
   "source": [
    "<a href=\"https://colab.research.google.com/github/isaashka/NLPMedicalAnalyzer/blob/main/NLPMedicalAnalyzer.ipynb\" target=\"_parent\"><img src=\"https://colab.research.google.com/assets/colab-badge.svg\" alt=\"Open In Colab\"/></a>"
   ]
  },
  {
   "cell_type": "markdown",
   "metadata": {},
   "source": [
    "# Medical Analyzer"
   ]
  },
  {
   "cell_type": "markdown",
   "metadata": {
    "id": "Q3CLxyK4kjm0"
   },
   "source": [
    "# Imports "
   ]
  },
  {
   "cell_type": "code",
   "execution_count": 1,
   "metadata": {},
   "outputs": [
    {
     "name": "stderr",
     "output_type": "stream",
     "text": [
      "2024-06-09 15:04:23.060 Python[27475:135143] WARNING: Secure coding is not enabled for restorable state! Enable secure coding by implementing NSApplicationDelegate.applicationSupportsSecureRestorableState: and returning YES.\n"
     ]
    },
    {
     "name": "stdout",
     "output_type": "stream",
     "text": [
      "showing info https://raw.githubusercontent.com/nltk/nltk_data/gh-pages/index.xml\n"
     ]
    },
    {
     "data": {
      "text/plain": [
       "True"
      ]
     },
     "execution_count": 1,
     "metadata": {},
     "output_type": "execute_result"
    }
   ],
   "source": [
    "import nltk\n",
    "import ssl\n",
    "\n",
    "try:\n",
    "    _create_unverified_https_context = ssl._create_unverified_context\n",
    "except AttributeError:\n",
    "    pass\n",
    "else:\n",
    "    ssl._create_default_https_context = _create_unverified_https_context\n",
    "\n",
    "nltk.download()"
   ]
  },
  {
   "cell_type": "code",
   "execution_count": 2,
   "metadata": {
    "id": "FzF6mi4KbJWs"
   },
   "outputs": [
    {
     "name": "stderr",
     "output_type": "stream",
     "text": [
      "[nltk_data] Downloading package wordnet to /Users/sasha/nltk_data...\n",
      "[nltk_data]   Package wordnet is already up-to-date!\n",
      "[nltk_data] Downloading package punkt to /Users/sasha/nltk_data...\n",
      "[nltk_data]   Package punkt is already up-to-date!\n"
     ]
    },
    {
     "data": {
      "text/plain": [
       "True"
      ]
     },
     "execution_count": 2,
     "metadata": {},
     "output_type": "execute_result"
    }
   ],
   "source": [
    "# General imports\n",
    "import os\n",
    "import numpy as np\n",
    "import nltk\n",
    "import pandas as pd\n",
    "from nltk.probability import FreqDist\n",
    "from nltk import word_tokenize\n",
    "from nltk.corpus import wordnet as wn\n",
    "from nltk.stem import WordNetLemmatizer\n",
    "\n",
    "nltk.download('wordnet')\n",
    "nltk.download('punkt')"
   ]
  },
  {
   "cell_type": "code",
   "execution_count": 3,
   "metadata": {},
   "outputs": [],
   "source": [
    "# Model specific imports\n",
    "from decimal import Decimal\n",
    "import pandas as pd\n",
    "from sklearn.svm import SVC\n",
    "from sklearn.metrics import accuracy_score\n",
    "from sklearn.metrics import mean_squared_error\n",
    "from sklearn.model_selection import train_test_split, cross_val_score\n",
    "from sklearn.metrics import precision_score, recall_score, f1_score\n",
    "from nltk.util import ngrams\n",
    "import math\n",
    "\n",
    "from sklearn.naive_bayes import MultinomialNB\n",
    "\n",
    "import matplotlib.pyplot as plt"
   ]
  },
  {
   "cell_type": "markdown",
   "metadata": {
    "id": "XSDZHGxxbS4O"
   },
   "source": [
    "# Data Preprocessing\n",
    "### Goal: convert user input --> symptoms"
   ]
  },
  {
   "cell_type": "code",
   "execution_count": 43,
   "metadata": {},
   "outputs": [],
   "source": [
    "# load the dataset\n",
    "symptoms_dataset = pd.read_csv(\"Dataset/dis_sym_dataset_comb.csv\")\n",
    "\n",
    "# extract features to use as a symptom array\n",
    "X = symptoms_dataset.iloc[:, 1:]\n",
    "dataset_symptoms = list(X.columns)\n",
    "# dataset_symptoms"
   ]
  },
  {
   "cell_type": "markdown",
   "metadata": {
    "jp-MarkdownHeadingCollapsed": true
   },
   "source": [
    "### Normalizing User Input"
   ]
  },
  {
   "cell_type": "code",
   "execution_count": 44,
   "metadata": {},
   "outputs": [],
   "source": [
    "import contractions\n",
    "import re\n",
    "from spellchecker import SpellChecker"
   ]
  },
  {
   "cell_type": "code",
   "execution_count": 92,
   "metadata": {},
   "outputs": [],
   "source": [
    "def user_input():\n",
    "    print(\"Enter symptoms: \")\n",
    "    user_input = input()\n",
    "    return normalize_user_input(user_input)\n",
    "\n",
    "def correct_spelling(user_input):\n",
    "    spell = SpellChecker()\n",
    "    words = user_input.split()\n",
    "    corrected_words = [spell.correction(word) for word in words]\n",
    "    return ' '.join(corrected_words)\n",
    "\n",
    "def normalize_user_input(user_input):\n",
    "    # lowercase\n",
    "    normalized_input = user_input.lower()\n",
    "    # fix contractions\n",
    "    normalized_input = contractions.fix(normalized_input)\n",
    "    # get rid of punctuation\n",
    "    normalized_input = re.sub(r'[^\\w\\s]', '', normalized_input)\n",
    "\n",
    "    normalized_input = correct_spelling(normalized_input)\n",
    "    # print(normalized_input)\n",
    "    return(normalized_input)"
   ]
  },
  {
   "cell_type": "code",
   "execution_count": 93,
   "metadata": {},
   "outputs": [
    {
     "name": "stdout",
     "output_type": "stream",
     "text": [
      "Enter symptoms: \n"
     ]
    },
    {
     "name": "stdin",
     "output_type": "stream",
     "text": [
      " I have been having migraines and headaches. I can't sleep. My whole body is shaking and shivering. I feel dizzy sometimes\n"
     ]
    },
    {
     "data": {
      "text/plain": [
       "'i have been having migraines and headaches i cannot sleep my whole body is shaking and shivering i feel dizzy sometimes'"
      ]
     },
     "execution_count": 93,
     "metadata": {},
     "output_type": "execute_result"
    }
   ],
   "source": [
    "user_symptoms = user_input()\n",
    "user_symptoms"
   ]
  },
  {
   "cell_type": "markdown",
   "metadata": {
    "jp-MarkdownHeadingCollapsed": true
   },
   "source": [
    "### Ngram approach\n",
    "\n",
    "\n",
    "Test input: I have been having migraines and headaches. I can't sleep. My whole body is shaking and shivering. I feel dizzy sometimes"
   ]
  },
  {
   "cell_type": "code",
   "execution_count": 7,
   "metadata": {},
   "outputs": [],
   "source": [
    "def find_symptom_phrases(tokens, symptom_keywords, body_parts, n=2):\n",
    "    symptom_phrases = []\n",
    "    ngrams_list = list(ngrams(tokens, n))\n",
    "\n",
    "    for ngram in ngrams_list:\n",
    "        for keyword in symptom_keywords:\n",
    "            for body_part in body_parts:\n",
    "                if keyword in ngram and body_part in ngram:\n",
    "                    symptom_phrases.append(' '.join(ngram))\n",
    "\n",
    "    return symptom_phrases\n",
    "\n",
    "# Lemmatize input\n",
    "def lemmatize_tokens(tokens):\n",
    "    lemmatizer = nltk.WordNetLemmatizer()\n",
    "    lemmatized_tokens = []  \n",
    "    for token in tokens:\n",
    "        lemmatized_tokens.append(lemmatizer.lemmatize(token))\n",
    "    return lemmatized_tokens\n",
    "\n",
    "def tokenize_user_symptoms():\n",
    "    print(\"Enter symptoms: \")\n",
    "    \n",
    "    symptoms = input()\n",
    "    # tokenize input\n",
    "    symptom_tokens = word_tokenize(symptoms)\n",
    "\n",
    "    # lemmatize input\n",
    "    symptom_tokens_lemmatized = lemmatize_tokens(symptom_tokens)\n",
    "\n",
    "    # find symptom phrases using n-grams\n",
    "    symptom_phrases = find_symptom_phrases(symptom_tokens_lemmatized, \\\n",
    "                                           dataset_symptoms, dataset_symptoms) # dataset_symptoms = symptoms retrieved from the dataset\n",
    "    \n",
    "    return symptom_phrases"
   ]
  },
  {
   "cell_type": "code",
   "execution_count": 8,
   "metadata": {},
   "outputs": [
    {
     "name": "stdout",
     "output_type": "stream",
     "text": [
      "Enter symptoms: \n"
     ]
    },
    {
     "name": "stdin",
     "output_type": "stream",
     "text": [
      " I have been having migraines and headaches. I can't sleep. My whole body is shaking and shivering. I feel dizzy\n"
     ]
    },
    {
     "name": "stdout",
     "output_type": "stream",
     "text": [
      "\n",
      "Here's your list of symptoms: \n",
      "['and headache', 'headache .', 'is shaking', 'shaking and', 'and shivering', 'shivering .']\n"
     ]
    }
   ],
   "source": [
    "extracted_symptoms = tokenize_user_symptoms()\n",
    "print()\n",
    "print('Here\\'s your list of symptoms: ')\n",
    "print(extracted_symptoms)"
   ]
  },
  {
   "cell_type": "markdown",
   "metadata": {},
   "source": [
    "### NER approach "
   ]
  },
  {
   "cell_type": "code",
   "execution_count": 46,
   "metadata": {},
   "outputs": [],
   "source": [
    "# Import the necessary libraries\n",
    "# !pip install transformers pandas nltk\n",
    "from transformers import pipeline"
   ]
  },
  {
   "cell_type": "code",
   "execution_count": 49,
   "metadata": {},
   "outputs": [],
   "source": [
    "# Load a pre-trained NER model that's specialized for biomedical text\n",
    "ner = pipeline(\"ner\", model=\"d4data/biomedical-ner-all\")\n",
    "\n",
    "# Load the symptoms dataset\n",
    "symptoms_dataset = pd.read_csv(\"Dataset/dis_sym_dataset_comb.csv\")\n",
    "\n",
    "def extract_symptoms(text):\n",
    "    # Use the NER pipeline to extract entities\n",
    "    entities = ner(text)\n",
    "    \n",
    "    # Extract symptom-related entities detected by the model\n",
    "    symptoms = [entity['word'] for entity in entities if 'symptom' in entity['entity'].lower()]\n",
    "    \n",
    "    # Tokenize the text for manual matching\n",
    "    tokens = word_tokenize(text.lower())\n",
    "    \n",
    "    # Add manually matched symptoms from the dataset\n",
    "    for token in tokens:\n",
    "        if token in dataset_symptoms and token not in symptoms:\n",
    "            symptoms.append(token)\n",
    "    \n",
    "    return symptoms\n",
    "\n",
    "# Function to clean and join tokens into keywords\n",
    "def clean_keywords(keywords):\n",
    "    clean_tokens = []\n",
    "    for token in keywords:\n",
    "        if token.startswith(\"##\"):\n",
    "            clean_tokens[-1] = clean_tokens[-1] + token[2:]\n",
    "        else:\n",
    "            clean_tokens.append(token)\n",
    "    return clean_tokens"
   ]
  },
  {
   "cell_type": "code",
   "execution_count": 51,
   "metadata": {},
   "outputs": [
    {
     "name": "stdout",
     "output_type": "stream",
     "text": [
      "Extracted Symptoms: ['mig', '##raine', 'headache', 'cannot', 'sleep', 'shaking', 'shivering', 'dizzy', 'fever']\n",
      "Keywords: ['migraine', 'headache', 'cannot', 'sleep', 'shaking', 'shivering', 'dizzy', 'fever']\n"
     ]
    }
   ],
   "source": [
    "# Example user input\n",
    "user_input = \"I have been having migraines and headaches. I can't sleep. My whole body is shaking and shivering. I feel dizzy sometimes. I have a fever.\"\n",
    "new_user_input = normalize_user_input(user_input)\n",
    "\n",
    "# Extract symptoms\n",
    "symptoms = extract_symptoms(new_user_input)\n",
    "\n",
    "# Clean and join the tokens into keywords\n",
    "keywords = clean_keywords(symptoms)\n",
    "\n",
    "# Display the symptoms\n",
    "print(\"Extracted Symptoms:\", symptoms)\n",
    "print(\"Keywords:\", keywords)"
   ]
  },
  {
   "cell_type": "markdown",
   "metadata": {},
   "source": [
    "#### Expand list of symptoms by finding synonyms"
   ]
  },
  {
   "cell_type": "code",
   "execution_count": 52,
   "metadata": {},
   "outputs": [
    {
     "name": "stderr",
     "output_type": "stream",
     "text": [
      "[nltk_data] Downloading package wordnet to /Users/sasha/nltk_data...\n",
      "[nltk_data]   Package wordnet is already up-to-date!\n"
     ]
    }
   ],
   "source": [
    "# find synonyms for extracted keywords\n",
    "nltk.download('wordnet')\n",
    "from nltk.corpus import wordnet"
   ]
  },
  {
   "cell_type": "code",
   "execution_count": 53,
   "metadata": {},
   "outputs": [],
   "source": [
    "# Get synonyms of a list of words\n",
    "def get_synonyms(words):\n",
    "    synonyms = set()\n",
    "    for word in words:\n",
    "        # Get synsets (sets of synonyms) for each word\n",
    "        synsets = wordnet.synsets(word)\n",
    "        for synset in synsets:\n",
    "            # Add synonyms of the word from each synset to the set\n",
    "            synonyms.update([lemma.name() for lemma in synset.lemmas()])\n",
    "    return synonyms"
   ]
  },
  {
   "cell_type": "code",
   "execution_count": 74,
   "metadata": {},
   "outputs": [
    {
     "name": "stdout",
     "output_type": "stream",
     "text": [
      "Synonym set: \n",
      "{'throw_off', 'migraine', 'kip', 'shake_off', 'judder', 'lightheaded', 'headache', 'hemicrania', 'sleep', 'sick_headache', 'sway', 'head_ache', 'light-headed', 'megrim', 'didder', 'quivering', 'dizzy', 'quiver', 'fever', 'cephalalgia', 'escape_from', 'silly', 'throb', 'woozy', 'palpitation', 'vexation', \"catch_some_Z's\", 'trembling', 'rest', 'eternal_rest', 'shake_up', 'febrility', 'chill', 'empty-headed', 'stimulate', 'vertiginous', 'eternal_sleep', 'shakiness', 'nap', 'featherbrained', 'pyrexia', 'shaking', 'giddy', 'shudder', 'rock', 'quietus', 'shivering', 'airheaded', 'stir', 'thrill', 'sopor', 'febricity', 'concern', 'agitate', 'shaky', 'excite', 'shiver', \"log_Z's\", 'worry', 'vibration', 'slumber', 'shake', 'feverishness'}\n",
      "\n",
      "List of all symptoms: \n",
      "['throw_off', 'migraine', 'kip', 'shake_off', 'judder', 'lightheaded', 'headache', 'hemicrania', 'sleep', 'sick_headache', 'sway', 'head_ache', 'light-headed', 'megrim', 'didder', 'quivering', 'dizzy', 'quiver', 'fever', 'cephalalgia', 'escape_from', 'silly', 'throb', 'woozy', 'palpitation', 'vexation', \"catch_some_Z's\", 'trembling', 'rest', 'eternal_rest', 'shake_up', 'febrility', 'chill', 'empty-headed', 'stimulate', 'vertiginous', 'eternal_sleep', 'shakiness', 'nap', 'featherbrained', 'pyrexia', 'shaking', 'giddy', 'shudder', 'rock', 'quietus', 'shivering', 'airheaded', 'stir', 'thrill', 'sopor', 'febricity', 'concern', 'agitate', 'shaky', 'excite', 'shiver', \"log_Z's\", 'worry', 'vibration', 'slumber', 'shake', 'feverishness']\n"
     ]
    }
   ],
   "source": [
    "synonyms = get_synonyms(keywords)\n",
    "print(\"Synonym set: \")\n",
    "print(synonyms)\n",
    "print()\n",
    "\n",
    "print(\"List of all symptoms: \")\n",
    "final_symptoms = list(synonyms)\n",
    "print(final_symptoms)"
   ]
  },
  {
   "cell_type": "code",
   "execution_count": 76,
   "metadata": {},
   "outputs": [
    {
     "name": "stdout",
     "output_type": "stream",
     "text": [
      "Collecting python-Levenshtein\n",
      "  Downloading python_Levenshtein-0.25.1-py3-none-any.whl.metadata (3.7 kB)\n",
      "Collecting Levenshtein==0.25.1 (from python-Levenshtein)\n",
      "  Downloading Levenshtein-0.25.1-cp310-cp310-macosx_10_9_x86_64.whl.metadata (3.3 kB)\n",
      "Collecting rapidfuzz<4.0.0,>=3.8.0 (from Levenshtein==0.25.1->python-Levenshtein)\n",
      "  Downloading rapidfuzz-3.9.3-cp310-cp310-macosx_10_9_x86_64.whl.metadata (12 kB)\n",
      "Downloading python_Levenshtein-0.25.1-py3-none-any.whl (9.4 kB)\n",
      "Downloading Levenshtein-0.25.1-cp310-cp310-macosx_10_9_x86_64.whl (135 kB)\n",
      "\u001b[2K   \u001b[90m━━━━━━━━━━━━━━━━━━━━━━━━━━━━━━━━━━━━━━━\u001b[0m \u001b[32m135.4/135.4 kB\u001b[0m \u001b[31m566.8 kB/s\u001b[0m eta \u001b[36m0:00:00\u001b[0ma \u001b[36m0:00:01\u001b[0m\n",
      "\u001b[?25hDownloading rapidfuzz-3.9.3-cp310-cp310-macosx_10_9_x86_64.whl (2.1 MB)\n",
      "\u001b[2K   \u001b[90m━━━━━━━━━━━━━━━━━━━━━━━━━━━━━━━━━━━━━━━━\u001b[0m \u001b[32m2.1/2.1 MB\u001b[0m \u001b[31m16.5 MB/s\u001b[0m eta \u001b[36m0:00:00\u001b[0m00:01\u001b[0m00:01\u001b[0m\n",
      "\u001b[?25hInstalling collected packages: rapidfuzz, Levenshtein, python-Levenshtein\n",
      "Successfully installed Levenshtein-0.25.1 python-Levenshtein-0.25.1 rapidfuzz-3.9.3\n"
     ]
    }
   ],
   "source": [
    "!pip install python-Levenshtein"
   ]
  },
  {
   "cell_type": "code",
   "execution_count": 124,
   "metadata": {},
   "outputs": [],
   "source": [
    "def extract_relevant_symptoms(final_symptoms):\n",
    "    syms_in_dataset = []\n",
    "    for sym in final_symptoms:\n",
    "        if sym in dataset_symptoms:\n",
    "            syms_in_dataset.append(sym)\n",
    "            # print(sym)\n",
    "    return syms_in_dataset\n",
    "    "
   ]
  },
  {
   "cell_type": "code",
   "execution_count": 125,
   "metadata": {},
   "outputs": [
    {
     "data": {
      "text/plain": [
       "['headache', 'fever', 'chill', 'shakiness', 'shaking', 'shivering']"
      ]
     },
     "execution_count": 125,
     "metadata": {},
     "output_type": "execute_result"
    }
   ],
   "source": [
    "extract_relevant_symptoms(final_symptoms)"
   ]
  },
  {
   "cell_type": "markdown",
   "metadata": {
    "jp-MarkdownHeadingCollapsed": true
   },
   "source": [
    "## Possible future implementations for Preprocessing:\n",
    "\n",
    "Look for symptom phrases to develop / inference a more descriptive symptom. Some keywords may not mean much on their own, but the words around them give more meaning. For example the word \"sleep,\" the complete phrase may be \"I can't sleep\" or \"I have trouble sleeping.\" To get the full picture we can look at words preceding and following the symptom keyword. \n",
    "\n",
    "_ _ _ sleep\n",
    "\n",
    "sleep _ _ _\n"
   ]
  },
  {
   "cell_type": "markdown",
   "metadata": {
    "jp-MarkdownHeadingCollapsed": true
   },
   "source": [
    "#### Getting different forms of the symptom keywords\n",
    "\n",
    "We can increase chances of finding the right symptoms just by changing the form of the word used. Ex. \"sleepy\" to \"sleepiness\". But there are currently no libraries that can do this accurately and coding this up would take a lot of time which is beyond the scope of this project."
   ]
  },
  {
   "cell_type": "code",
   "execution_count": 75,
   "metadata": {},
   "outputs": [
    {
     "data": {
      "text/plain": [
       "['sleepe',\n",
       " 'sleeped',\n",
       " 'sleepes',\n",
       " 'sleeping',\n",
       " 'sleepful',\n",
       " 'sleepness',\n",
       " 'sleepfulness']"
      ]
     },
     "execution_count": 75,
     "metadata": {},
     "output_type": "execute_result"
    }
   ],
   "source": [
    "# Get all forms of the extracted symptoms\n",
    "# i.e. 'sleep' --> 'sleepy', 'sleepiness', 'sleep'\n",
    "#\n",
    "# !pip install reversestem\n",
    "\n",
    "from reversestem import unstem\n",
    "\n",
    "unstem('sleep')"
   ]
  },
  {
   "cell_type": "markdown",
   "metadata": {},
   "source": [
    "# Models\n",
    "\n",
    "Classification models used to match an input list of symptoms to the disease.\n",
    "\n",
    "Following code inspired by this github repo: https://github.com/rahul15197/Disease-Detection-based-on-Symptoms?source=post_page-----54e6be60a3d1--------------------------------\n",
    "\n",
    "We used the dataset from the github repo as well as some general structure of code. Most of the code was written by us to suit our overall structure.\n"
   ]
  },
  {
   "cell_type": "code",
   "execution_count": 135,
   "metadata": {},
   "outputs": [],
   "source": [
    "# lists used for performance plots\n",
    "\n",
    "model_list = []\n",
    "f1_scores = []\n",
    "accuracies = []"
   ]
  },
  {
   "cell_type": "markdown",
   "metadata": {},
   "source": [
    "### Dataset"
   ]
  },
  {
   "cell_type": "code",
   "execution_count": 136,
   "metadata": {},
   "outputs": [],
   "source": [
    "# load the dataset\n",
    "symptoms_dataset = pd.read_csv(\"Dataset/dis_sym_dataset_comb.csv\")\n",
    "\n",
    "# separate the features and labels\n",
    "X = symptoms_dataset.iloc[:, 1:]\n",
    "Y = symptoms_dataset.iloc[:, 0:1]\n",
    "\n",
    "# convert Y (labels) to a 1D array \n",
    "y_array = Y.to_numpy() if isinstance(Y, pd.Series) else Y.values\n",
    "Y = y_array.ravel()"
   ]
  },
  {
   "cell_type": "code",
   "execution_count": 137,
   "metadata": {},
   "outputs": [],
   "source": [
    "# split data into train and test sets\n",
    "x_train, x_test, y_train, y_test = train_test_split(X, Y, test_size = 0.10)     "
   ]
  },
  {
   "cell_type": "markdown",
   "metadata": {},
   "source": [
    "### Evaluate the Model"
   ]
  },
  {
   "cell_type": "code",
   "execution_count": 138,
   "metadata": {},
   "outputs": [],
   "source": [
    "# fit model according to its type and make predictions\n",
    "def fit_and_predict(classifier, model_type):\n",
    "    classifier = classifier.fit(X, Y)\n",
    "\n",
    "    # Predict on the test set\n",
    "    y_pred = classifier.predict(x_test)\n",
    "    \n",
    "    precision, recall, f1, accuracy = evaluate_model(y_test, y_pred, model_type)\n",
    "    print_evaluation_metrics(precision, recall, f1, accuracy)\n",
    "\n",
    "# Evaluate the model on different metrics\n",
    "def evaluate_model(y_test, y_pred, model_type):\n",
    "    # Calculate precision, recall, and F1-score for each class and then compute the macro average\n",
    "    precision = round(Decimal(precision_score(y_test, y_pred, average='macro', zero_division=1) * 100), 2)\n",
    "    recall= round(Decimal(recall_score(y_test, y_pred, average='macro', zero_division=1) * 100), 2)\n",
    "    f1= round(Decimal(f1_score(y_test, y_pred, average='macro') * 100), 2)\n",
    "    \n",
    "    # calculate accuracy\n",
    "    accuracy = round(Decimal(accuracy_score(y_test, y_pred) * 100), 2)\n",
    "    \n",
    "    # Add metrics to overall arrays used later for graphing\n",
    "    model_list.append(model_type)\n",
    "    f1_scores.append(f1)\n",
    "    accuracies.append(accuracy)\n",
    "\n",
    "    return precision, recall, f1, accuracy\n",
    "    \n",
    "def print_evaluation_metrics(precision, recall, f1, accuracy):\n",
    "    print(f'Macro-average Precision: {precision}%')\n",
    "    print(f'Macro-average Recall: {recall}%')\n",
    "    print(f'Macro-average F1-score: {f1}%')\n",
    "    print(f'Accuracy: {accuracy}%')\n"
   ]
  },
  {
   "cell_type": "code",
   "execution_count": 139,
   "metadata": {},
   "outputs": [],
   "source": [
    "# prints all model names and their f1 score and accuracy\n",
    "def print_all_metrics():\n",
    "    for i in range(len(model_list)):\n",
    "        print(f'Model: {model_list[i]}, f1 = {f1_scores[i]} accuracy = {accuracies[i]}')\n",
    "        # print(model_list[i], f1_scores[i], accuracies[i])"
   ]
  },
  {
   "cell_type": "markdown",
   "metadata": {},
   "source": [
    "### Multinomial Naive Bayes"
   ]
  },
  {
   "cell_type": "code",
   "execution_count": 140,
   "metadata": {},
   "outputs": [
    {
     "name": "stdout",
     "output_type": "stream",
     "text": [
      "Macro-average Precision: 94.62%\n",
      "Macro-average Recall: 56.77%\n",
      "Macro-average F1-score: 55.43%\n",
      "Accuracy: 85.63%\n"
     ]
    }
   ],
   "source": [
    "# Train the Naive Bayes classifier\n",
    "mnb = MultinomialNB()\n",
    "fit_and_predict(mnb, 'MultinomialNaiveBayes')"
   ]
  },
  {
   "cell_type": "markdown",
   "metadata": {},
   "source": [
    "### Support Vector Machine"
   ]
  },
  {
   "cell_type": "code",
   "execution_count": 141,
   "metadata": {},
   "outputs": [
    {
     "name": "stdout",
     "output_type": "stream",
     "text": [
      "Macro-average Precision: 95.49%\n",
      "Macro-average Recall: 71.15%\n",
      "Macro-average F1-score: 70.45%\n",
      "Accuracy: 90.61%\n"
     ]
    }
   ],
   "source": [
    "# Train the Support Vector Machine classifier\n",
    "svm = SVC()\n",
    "fit_and_predict(svm, 'SupportVectorMachine')"
   ]
  },
  {
   "cell_type": "markdown",
   "metadata": {},
   "source": [
    "### Logistic Regression"
   ]
  },
  {
   "cell_type": "code",
   "execution_count": 142,
   "metadata": {},
   "outputs": [
    {
     "name": "stdout",
     "output_type": "stream",
     "text": [
      "Macro-average Precision: 94.58%\n",
      "Macro-average Recall: 72.05%\n",
      "Macro-average F1-score: 70.50%\n",
      "Accuracy: 90.61%\n"
     ]
    }
   ],
   "source": [
    "# Train the Support Vector Machine classifier\n",
    "lr = LogisticRegression()\n",
    "fit_and_predict(lr, 'LogisticRegression')"
   ]
  },
  {
   "cell_type": "markdown",
   "metadata": {},
   "source": [
    "### Metrics and Performance"
   ]
  },
  {
   "cell_type": "code",
   "execution_count": 143,
   "metadata": {},
   "outputs": [
    {
     "name": "stdout",
     "output_type": "stream",
     "text": [
      "Model: MultinomialNaiveBayes, f1 = 55.43 accuracy = 85.63\n",
      "Model: SupportVectorMachine, f1 = 70.45 accuracy = 90.61\n",
      "Model: LogisticRegression, f1 = 70.50 accuracy = 90.61\n"
     ]
    }
   ],
   "source": [
    "print_all_metrics()"
   ]
  },
  {
   "cell_type": "code",
   "execution_count": 144,
   "metadata": {},
   "outputs": [
    {
     "data": {
      "image/png": "[encoded data removed]",
      "text/plain": [
       "<Figure size 1000x1000 with 1 Axes>"
      ]
     },
     "metadata": {},
     "output_type": "display_data"
    }
   ],
   "source": [
    "# Metric lists for reference\n",
    "# model_list = []\n",
    "# f1_scores = []\n",
    "# accuracies = []\n",
    "\n",
    "# Comparison plot for all classifiers with their accuracy\n",
    "plt.style.use('_classic_test_patch')\n",
    "fig = plt.figure(figsize=(10, 10))\n",
    "ax = fig.add_subplot()\n",
    "plt.title(\"Model Vs Accuracy\", color='black', pad=30)\n",
    "plt.xlabel('Classifier', color='black')\n",
    "plt.ylabel('Accuracy (%)', color='black')\n",
    "plt.bar(model_list, accuracies, color='lightblue')\n",
    "for i, j in enumerate(accuracies):\n",
    "    ax.text(float(i)-0.15, float(j)+0.7, str(j), color='blue')\n",
    "plt.show()"
   ]
  },
  {
   "cell_type": "code",
   "execution_count": 145,
   "metadata": {},
   "outputs": [
    {
     "data": {
      "image/png": "[encoded data removed]",
      "text/plain": [
       "<Figure size 1000x1000 with 1 Axes>"
      ]
     },
     "metadata": {},
     "output_type": "display_data"
    }
   ],
   "source": [
    "# comparison plot for all classifiers with their F1-score\n",
    "plt.style.use('_classic_test_patch')\n",
    "fig = plt.figure(figsize=(10, 10))\n",
    "ax = fig.add_subplot()\n",
    "plt.title(\"Model Vs F1-score\", color='black', pad=30)\n",
    "plt.xlabel('Classifier', color='black')\n",
    "plt.ylabel('F1-score (%)', color='black')\n",
    "plt.bar(model_list, f1_scores, color='lightblue')\n",
    "for i, j in enumerate(f1_scores):\n",
    "    ax.text(float(i)-0.15, float(j)+0.7, str(j), color='blue')\n",
    "plt.show()"
   ]
  },
  {
   "cell_type": "markdown",
   "metadata": {},
   "source": [
    "# MedicalAnalyzer for Disease Output\n",
    "\n",
    "This is the main user-model interactive section, all the above code needs to be run so that the following works. This is the minimalist and to the point interaction between user and our model."
   ]
  },
  {
   "cell_type": "markdown",
   "metadata": {
    "jp-MarkdownHeadingCollapsed": true
   },
   "source": [
    "### Logistic Regression Model\n",
    "\n",
    "The best performing model was Logistic Regression, so we'll use that in our evaluations of user input.\n",
    "\n",
    "This code almost completely adapted from: https://github.com/rahul15197/Disease-Detection-based-on-Symptoms/blob/master/SymptomSuggestion.ipynb\n"
   ]
  },
  {
   "cell_type": "code",
   "execution_count": 81,
   "metadata": {},
   "outputs": [],
   "source": [
    "# load the dataset\n",
    "df_comb = pd.read_csv(\"Dataset/dis_sym_dataset_comb.csv\")\n",
    "df_norm = pd.read_csv(\"Dataset/dis_sym_dataset_norm.csv\")\n",
    "\n",
    "# separate the features and labels\n",
    "X = df_comb.iloc[:, 1:]\n",
    "Y = df_comb.iloc[:, 0:1]\n",
    "\n",
    "# convert Y (labels) to a 1D array \n",
    "y_array = Y.to_numpy() if isinstance(Y, pd.Series) else Y.values\n",
    "Y = y_array.ravel()"
   ]
  },
  {
   "cell_type": "code",
   "execution_count": 82,
   "metadata": {},
   "outputs": [
    {
     "name": "stderr",
     "output_type": "stream",
     "text": [
      "/Library/Frameworks/Python.framework/Versions/3.10/lib/python3.10/site-packages/sklearn/model_selection/_split.py:737: UserWarning: The least populated class in y has only 1 members, which is less than n_splits=5.\n",
      "  warnings.warn(\n"
     ]
    }
   ],
   "source": [
    "lr = LogisticRegression()\n",
    "lr = lr.fit(X, Y)\n",
    "scores = cross_val_score(lr, X, Y, cv=5)"
   ]
  },
  {
   "cell_type": "code",
   "execution_count": 83,
   "metadata": {},
   "outputs": [],
   "source": [
    "X = df_norm.iloc[:, 1:]\n",
    "Y = df_norm.iloc[:, 0:1]"
   ]
  },
  {
   "cell_type": "code",
   "execution_count": 84,
   "metadata": {},
   "outputs": [],
   "source": [
    "# List of symptoms\n",
    "dataset_symptoms = list(X.columns)"
   ]
  },
  {
   "cell_type": "markdown",
   "metadata": {},
   "source": [
    "### Input Symptoms --> Disease\n",
    "\n",
    "This is where we use the model to tell us what diseases the user may have based on the symptoms extracted from their input."
   ]
  },
  {
   "cell_type": "code",
   "execution_count": 114,
   "metadata": {},
   "outputs": [],
   "source": [
    "# Create vector from processed user symptoms to be used by the model\n",
    "\n",
    "# example symptom list\n",
    "# sym_list = [\"yellowish skin\",\"wheezing\",\"abdominal cramp\",\"back\",\"feeling cold\"]\n",
    "\n",
    "def create_symptom_vector(sym_list):\n",
    "    sym_vector = [0 for i in range(0, len(dataset_symptoms))]\n",
    "    for sym in sym_list:\n",
    "        # print(sym)\n",
    "        sym_vector[dataset_symptoms.index(sym)] = 1\n",
    "    return sym_vector"
   ]
  },
  {
   "cell_type": "code",
   "execution_count": 116,
   "metadata": {},
   "outputs": [],
   "source": [
    "# Predict the likelihood for each disease\n",
    "def predict_diseases(sym_vector):\n",
    "    disease_predict = lr.predict_proba([sym_vector])\n",
    "    k = 10\n",
    "    diseases = list(set(Y['label_dis']))\n",
    "    diseases.sort()\n",
    "    top_k = disease_predict[0].argsort()[-k:][::-1]\n",
    "    return top_k"
   ]
  },
  {
   "cell_type": "code",
   "execution_count": 119,
   "metadata": {},
   "outputs": [],
   "source": [
    "def output_top_k_diseases(top_k):\n",
    "    print(f\"\\nTop {k} diseases predicted based on symptoms\")\n",
    "    topk_dict = {}\n",
    "    # Show top 10 highly probable disease to the user.\n",
    "    for idx,t in  enumerate(top_k):\n",
    "        match_sym=set()\n",
    "        row = df_norm.loc[df_norm['label_dis'] == diseases[t]].values.tolist()\n",
    "        row[0].pop(0)\n",
    "    \n",
    "        for idx,val in enumerate(row[0]):\n",
    "            if val!=0:\n",
    "                match_sym.add(dataset_symptoms[idx])\n",
    "        prob = (len(match_sym.intersection(set(sym_list)))+1)/(len(set(sym_list))+1)\n",
    "        prob *= np.mean(scores)\n",
    "        topk_dict[t] = prob\n",
    "    j = 0\n",
    "    topk_index_mapping = {}\n",
    "    topk_sorted = dict(sorted(topk_dict.items(), key=lambda kv: kv[1], reverse=True))\n",
    "    for key in topk_sorted:\n",
    "      prob = topk_sorted[key]*100\n",
    "\n",
    "      disease_name = f\"{diseases[key]:<10}\"\n",
    "      print(str(j+1) + \" Disease name:\",diseases[key], \"\\tProbability:\",str(round(prob, 2))+\"%\")\n",
    "      print(f\"{str(j+1)} {disease_name}\")\n",
    "      formatted_string = f\"{name:<10}\"  # Left-align within 10 characters\n",
    "      print(f\"'{formatted_string}'\")\n",
    "\n",
    "        \n",
    "      topk_index_mapping[j] = key\n",
    "      j += 1\n"
   ]
  },
  {
   "cell_type": "markdown",
   "metadata": {},
   "source": [
    "## User-interactable Interface\n",
    "\n",
    "Note: In actual implementation the user wouldn't get the list of diseases shown to them, it would instead be saved to a file and shown to the doctor. This implementation is created to show all of the output in one place to see how the model works."
   ]
  },
  {
   "cell_type": "code",
   "execution_count": 130,
   "metadata": {},
   "outputs": [],
   "source": [
    "# Example user input\n",
    "# user_input = \"I have been having migraines and headaches. I can't sleep. My whole body is shaking and shivering. I feel dizzy sometimes. I have a fever.\"\n",
    "# new_user_input = normalize_user_input(user_input)\n",
    "def MedicalAnalyzer():\n",
    "    new_user_input = user_input()\n",
    "    print()\n",
    "    \n",
    "    # Extract symptoms\n",
    "    symptoms = extract_symptoms(new_user_input)\n",
    "    \n",
    "    # Clean and join the tokens into keywords\n",
    "    keywords = clean_keywords(symptoms)\n",
    "    \n",
    "    # Display the symptoms\n",
    "    print(\"Key symptom words: \", keywords)\n",
    "    print()\n",
    "    \n",
    "    # Display all symptoms including synonyms\n",
    "    synonyms = get_synonyms(keywords)\n",
    "    final_symptoms = list(synonyms)\n",
    "    print(\"Symptoms synonyms list: \", final_symptoms)\n",
    "    print()\n",
    "    \n",
    "    # Get relevant symptoms\n",
    "    relevant_symptoms = extract_relevant_symptoms(final_symptoms)\n",
    "    \n",
    "    print(\"Final symptoms list: \", relevant_symptoms)\n",
    "    print()\n",
    "    \n",
    "    # Create a vector to be used by the model\n",
    "    sym_vector = create_symptom_vector(relevant_symptoms)\n",
    "    \n",
    "    # Get top diseases\n",
    "    topk_diseases = predict_diseases(sym_vector)\n",
    "    \n",
    "    output_top_k_diseases(topk_diseases)\n",
    "# Hi doctor, I am a 26 year old male. I am 5 feet and 9 inches tall and weigh 255 pounds. When I eat spicy food, I poop blood. Sometimes when I have constipation as well, I poop a little bit of blood. I am really scared that I have colon cancer. I do have diarrhea often. I do not have a family history of colon cancer. I got blood tests done last night. Please find my reports attached."
   ]
  },
  {
   "cell_type": "code",
   "execution_count": 133,
   "metadata": {},
   "outputs": [
    {
     "name": "stdout",
     "output_type": "stream",
     "text": [
      "Enter symptoms: \n"
     ]
    },
    {
     "name": "stdin",
     "output_type": "stream",
     "text": [
      " I'm John, 35 years old, and I've been feeling really off for the past few days. At first, I thought I was just run down from work, but it's getting worse. I feel exhausted all the time, and my whole body aches, especially my back and legs. I thought it might be because I pushed too hard at the gym, but I'm not so sure anymore.  I've also had this headache that won't go away, no matter how much painkiller I take. On top of that, I keep getting these chills, and then I'll suddenly feel really hot. I haven't checked my temperature, though. My throat feels scratchy and sore, and I've been coughing a lot, which is really messing with my sleep.  I'm not hungry at all and feel a bit nauseous, but I haven't thrown up or anything. I haven't been around anyone who's sick, and I haven't traveled recently, so I'm confused about what's going on. I've tried resting and drinking lots of fluids, but nothing seems to help. I'm starting to worry that this might be something serious, so I thought it was time to see a doctor.\n"
     ]
    },
    {
     "name": "stdout",
     "output_type": "stream",
     "text": [
      "\n",
      "Key symptom words:  ['feeling', 'really', 'off', 'it', 'exhausted', 'aches', 'headache', 'chill', 'hot', 'scratchy', 'sore', 'coughing', 'hungry', 'nauseous', 'thrown', 'up', 'confused', 'back']\n",
      "\n",
      "Symptoms synonyms list:  ['abrasive', 'raging', 'red-hot', 'hurt', 'baffled', 'play_out', 'afflictive', 'sensitive', 'second', 'bewilder', 'nauseous', 'hurl', 'blur', 'mazed', 'truly', 'yen', 'back', 'vexation', 'cool', 'IT', 'confuse', 'mad', 'fuddle', 'spinal_column', 'rearwards', 'pall', 'up', 'run_down', 'sore', 'discharge', 'yearn', 'improving', 'languish', 'rasping', 'scattered', 'thrill', 'cough', 'tingle', 'spirit', 'turned', 'disordered', 'back_up', 'played_out', 'information_technology', 'gravelly', 'queasy', 'bemused', 'rear', 'loathsome', 'exhaust', 'blistering', 'stake', 'disoriented', 'tire', 'remove', 'obnubilate', 'look', 'cranky', 'disjointed', 'bedevil', 'backrest', 'eject', 'cast', 'suffer', 'genuinely', 'pine', 'sick', 'bet_on', 'confound', 'frisson', 'discombobulate', 'testy', 'offensive', 'hit', 'petulant', 'make', 'jumble', 'thrown_and_twisted', 'deplete', 'thrust', 'worn_out', 'astir', 'illogical', 'plump_for', 'spent', 'flip', 'confused', 'tactile_sensation', 'game', 'washed-out', 'chill', 'flavor', 'plunk_for', 'uneven', 'cover', 'support', 'sense', 'exhausted', 'shed', 'eat_up', 'lost', 'hinder', 'tactual_sensation', 'consume', 'touch', 'techy', 'find', 'concern', 'hot', 'finger', 'vile', 'smell', 'throw', 'hold', 'impression', 'have', 'flurry', 'book_binding', 'worry', 'punt', 'throw_off', 'shake_off', 'bewildered', 'noisome', 'ache', 'give', 'backward', 'sickening', 'opinion', 'gage', 'thrown', 'headache', 'pettish', 'flavour', 'real', 'spicy', 'in_truth', 'fatigued', 'unconnected', 'upwardly', 'sour', 'wash_up', 'quiver', 'thirsty', 'intuitive_feeling', 'vertebral_column', 'nettlesome', 'hungry', 'dispatch', 'iciness', 'rough', 'coughing', 'nauseating', 'rachis', 'rearward', 'irritable', 'sickish', 'switch', 'experience', 'tucker', 'worn-out', 'tetchy', 'raw', 'off', 'fox', 'huffy', 'hind', 'cool_down', 'scratchy', 'backwards', 'notion', 'at_sea', 'eat', 'live', 'put_off', 'mixed-up', 'broken', 'expel', 'shiver', 'release', 'disconcert', 'befuddle', 'upward', 'obscure', 'fractious', 'dorsum', 'forth', 'athirst', 'really', 'throw_away', 'actually', 'dog-tired', 'befuddled', 'wipe_out', 'peevish', 'peckish', 'touch_sensation', 'raspy', 'head_ache', 'run_through', 'polish_off', 'cephalalgia', 'away', 'smart', 'palpate', 'murder', 'binding', 'aching', 'painful', 'nauseated', 'tone', 'very', 'tender', 'endorse', 'grating', 'bemuse', 'slay', 'fagged', 'beat', 'confounded', 'belief', 'indorse', 'use_up', 'feel', 'rattling', 'backbone', 'cancelled', 'shudder', 'shivering', 'sap', 'garbled', 'tucker_out', 'bump_off', 'contrive', 'upwards', 'disconnected', 'drop', 'spotty', 'cast_off', 'upset', 'gelidity', 'feeling', 'mix_up', 'project', 'spine']\n",
      "\n",
      "Final symptoms list:  ['back', 'chill', 'headache', 'coughing', 'aching', 'painful', 'shivering']\n",
      "\n",
      "\n",
      "Top 10 diseases predicted based on symptoms\n",
      "1 Disease name: Yellow Fever \tProbability: 44.6%\n",
      "2 Disease name: Influenza \tProbability: 29.73%\n",
      "3 Disease name: Lead poisoning \tProbability: 29.73%\n",
      "4 Disease name: Heat-Related Illnesses and Heat waves \tProbability: 29.73%\n",
      "5 Disease name: Brain Tumour \tProbability: 29.73%\n",
      "6 Disease name: Iritis \tProbability: 29.73%\n",
      "7 Disease name: Myocardial Infarction (Heart Attack) \tProbability: 14.87%\n",
      "8 Disease name: Bleeding Gums \tProbability: 14.87%\n",
      "9 Disease name: Repetitive strain injury \tProbability: 14.87%\n",
      "10 Disease name: Asthma \tProbability: 14.87%\n"
     ]
    },
    {
     "name": "stderr",
     "output_type": "stream",
     "text": [
      "/Library/Frameworks/Python.framework/Versions/3.10/lib/python3.10/site-packages/sklearn/base.py:493: UserWarning: X does not have valid feature names, but LogisticRegression was fitted with feature names\n",
      "  warnings.warn(\n"
     ]
    }
   ],
   "source": [
    "MedicalAnalyzer()"
   ]
  },
  {
   "cell_type": "code",
   "execution_count": 134,
   "metadata": {},
   "outputs": [
    {
     "data": {
      "text/plain": [
       "['abdominal cramp',\n",
       " 'abdominal distention',\n",
       " 'abnormal behavior',\n",
       " 'abnormal bleeding',\n",
       " 'abnormal sensation',\n",
       " 'abnormally frequent',\n",
       " 'abscess',\n",
       " 'aching',\n",
       " 'acne',\n",
       " 'acquiring drinking alcohol taking lot time',\n",
       " 'affected part turning white',\n",
       " 'anemia',\n",
       " 'anxiety',\n",
       " 'arm',\n",
       " 'attack pain',\n",
       " 'back',\n",
       " 'bacterial infection',\n",
       " 'bad breath',\n",
       " 'bad smelling thin vaginal discharge',\n",
       " 'bad smelling vaginal discharge',\n",
       " 'barky cough',\n",
       " 'belching',\n",
       " 'better sitting worse lying',\n",
       " 'birth baby younger week gestational age',\n",
       " 'bleeding gum',\n",
       " 'bleeding skin',\n",
       " 'blindness',\n",
       " 'blindness one eye',\n",
       " 'blister sunlight',\n",
       " 'bloating',\n",
       " 'blood stool',\n",
       " 'blood urine',\n",
       " 'bloody diarrhea',\n",
       " 'blue',\n",
       " 'bluish skin coloration',\n",
       " 'blurred vision',\n",
       " 'blurry vision',\n",
       " 'body tremor',\n",
       " 'bone pain',\n",
       " 'bowed leg',\n",
       " 'breakdown skeletal muscle',\n",
       " 'breathing problem',\n",
       " 'bruising',\n",
       " 'burning',\n",
       " 'burning redness eye',\n",
       " 'burning stabbing pain',\n",
       " 'burning urination',\n",
       " 'certain thought repeatedly',\n",
       " 'change bowel movement',\n",
       " 'change breast shape',\n",
       " 'change color',\n",
       " 'change hair',\n",
       " 'change reflex',\n",
       " 'change skin color red black',\n",
       " 'change sleeping eating pattern',\n",
       " 'change taste',\n",
       " 'change voice',\n",
       " 'characteristic facial feature',\n",
       " 'characteristic rash',\n",
       " 'chest discomfort',\n",
       " 'chest pain',\n",
       " 'chest tightness',\n",
       " 'chill',\n",
       " 'chronic cough',\n",
       " 'chronic pain bladder',\n",
       " 'clenched fist overlapping finger',\n",
       " 'close object appear blurry',\n",
       " 'clumsy',\n",
       " 'cm lump skin',\n",
       " 'cold sweat',\n",
       " 'coma',\n",
       " 'confused thinking',\n",
       " 'confusion',\n",
       " 'constipation',\n",
       " 'coolness',\n",
       " 'coordination',\n",
       " 'cough bloody mucus',\n",
       " 'cough sputum production',\n",
       " 'coughing',\n",
       " 'coughing blood',\n",
       " 'coughing including coughing blood',\n",
       " 'coughing mucus',\n",
       " 'crawl',\n",
       " 'cry episode',\n",
       " 'dark urine',\n",
       " 'darker',\n",
       " 'daytime sleepiness',\n",
       " 'death child le one year age',\n",
       " 'decreased ability feel pain',\n",
       " 'decreased ability see',\n",
       " 'decreased ability think',\n",
       " 'decreased ability think remember',\n",
       " 'decreased ability turn',\n",
       " 'decreased appetite',\n",
       " 'decreased motivation',\n",
       " 'decreased range motion',\n",
       " 'decreased taste',\n",
       " 'decreased vision',\n",
       " 'dehydration',\n",
       " 'delayed physical growth',\n",
       " 'delirium',\n",
       " 'delusion',\n",
       " 'dementia',\n",
       " 'depending subtype abdominal pain',\n",
       " 'depends organ involved',\n",
       " 'depressed mood',\n",
       " 'depression',\n",
       " 'dermatitis herpetiformis',\n",
       " 'developmental disability',\n",
       " 'diarrhea',\n",
       " 'diarrhea may bloody',\n",
       " 'diarrhea mixed blood',\n",
       " 'diarrhoea',\n",
       " 'difficulty breathing',\n",
       " 'difficulty cutting',\n",
       " 'difficulty eating',\n",
       " 'difficulty getting pregnant',\n",
       " 'difficulty remembering recent event',\n",
       " 'difficulty swallowing',\n",
       " 'difficulty walking',\n",
       " 'dimpling skin',\n",
       " 'discharge penis',\n",
       " 'disorientation',\n",
       " 'distant object appear blurry',\n",
       " 'distorted blurred vision distance',\n",
       " 'dizziness',\n",
       " 'double vision',\n",
       " 'drinking large amount alcohol long period',\n",
       " 'drooping eyelid',\n",
       " 'dry cough',\n",
       " 'dry damp skin',\n",
       " 'dry eye',\n",
       " 'dry mouth',\n",
       " 'ear pain',\n",
       " 'easy prolonged bleeding',\n",
       " 'emotional problem',\n",
       " 'enlarged lymph node neck',\n",
       " 'enlarged spleen',\n",
       " 'enlarged thyroid',\n",
       " 'enlargement thyroid',\n",
       " 'enlargement tonsil',\n",
       " 'episode severe',\n",
       " 'erythema marginatum',\n",
       " 'excess hair',\n",
       " 'excessive amount uterine bleeding',\n",
       " 'excessive daytime sleepiness',\n",
       " 'excessive salivation',\n",
       " 'expanding area redness site tick bite',\n",
       " 'extreme sadness',\n",
       " 'extremity weakness',\n",
       " 'eye pain',\n",
       " 'eye strain',\n",
       " 'eyestrain',\n",
       " 'fast heart rate',\n",
       " 'fast heartbeat',\n",
       " 'fatigue',\n",
       " 'fear water',\n",
       " 'feel need check thing repeatedly',\n",
       " 'feeling cold',\n",
       " 'feeling faint upon standing',\n",
       " 'feeling generally unwell',\n",
       " 'feeling like passing',\n",
       " 'feeling need urinate right away',\n",
       " 'feeling tired',\n",
       " 'feeling tired time',\n",
       " 'fever',\n",
       " 'firm',\n",
       " 'flat discolored spot bump may blister',\n",
       " 'flu like illness',\n",
       " 'flu like symptom',\n",
       " 'fluid filled blister scab',\n",
       " 'fluid nipple',\n",
       " 'frequent infection',\n",
       " 'frequent urination',\n",
       " 'fullness',\n",
       " 'gas',\n",
       " 'gradual loss coordination',\n",
       " 'growth delay',\n",
       " 'gum disease',\n",
       " 'hair loss',\n",
       " 'half ring finger',\n",
       " 'hallucination',\n",
       " 'hallucination usually hearing voice',\n",
       " 'hard swelling skin',\n",
       " 'hard time reading small print',\n",
       " 'headache',\n",
       " 'hearing loss',\n",
       " 'hearing sound external sound present',\n",
       " 'heartburn',\n",
       " 'heat intolerance',\n",
       " 'heavy period',\n",
       " 'high blood pressure',\n",
       " 'high body temperature',\n",
       " 'hoarse voice',\n",
       " 'hold reading material farther away',\n",
       " 'impaired communication',\n",
       " 'inability child',\n",
       " 'inability move facial muscle one side',\n",
       " 'inability move feel one side body',\n",
       " 'increased breath rate',\n",
       " 'increased breathing rate',\n",
       " 'increased fat',\n",
       " 'increased heart rate',\n",
       " 'increased hunger',\n",
       " 'increased risk broken bone',\n",
       " 'increased risk infection',\n",
       " 'increased thirst',\n",
       " 'increasing weakening',\n",
       " 'index',\n",
       " 'infertility',\n",
       " 'inflamed eye',\n",
       " 'insomnia',\n",
       " 'intellectual disability',\n",
       " 'involuntary muscle movement',\n",
       " 'involuntary sleep episode',\n",
       " 'irregular edge',\n",
       " 'irregular menstrual period',\n",
       " 'irregular menstruation',\n",
       " 'irritability',\n",
       " 'irritation',\n",
       " 'itchiness',\n",
       " 'itching',\n",
       " 'itching genital area',\n",
       " 'itching result trouble sleeping',\n",
       " 'itchy',\n",
       " 'itchy blister',\n",
       " 'itchy bump',\n",
       " 'itchy ear',\n",
       " 'jaundice',\n",
       " 'jaw',\n",
       " 'jerky body movement',\n",
       " 'joint bone pain',\n",
       " 'joint swelling',\n",
       " 'large amount watery diarrhea',\n",
       " 'large forehead',\n",
       " 'large lymph node',\n",
       " 'large lymph node around neck',\n",
       " 'leg swelling',\n",
       " 'light sensitivity',\n",
       " 'little pain',\n",
       " 'localized breast pain redness',\n",
       " 'long term fatigue',\n",
       " 'loose frequent bowel movement',\n",
       " 'loose teeth',\n",
       " 'loss appetite',\n",
       " 'loss consciousness may sweating',\n",
       " 'loss hair part head body',\n",
       " 'loss lot blood childbirth',\n",
       " 'loss smell',\n",
       " 'loss vision one side',\n",
       " 'low blood pressure',\n",
       " 'low energy',\n",
       " 'low red blood cell',\n",
       " 'lower abdominal pain',\n",
       " 'lump breast',\n",
       " 'lump bump neck',\n",
       " 'maculopapular rash',\n",
       " 'malabsorption',\n",
       " 'may symptom',\n",
       " 'memory problem',\n",
       " 'mental ability',\n",
       " 'mental change',\n",
       " 'mid dilated pupil',\n",
       " 'middle finger',\n",
       " 'mild moderate intellectual disability',\n",
       " 'minimal',\n",
       " 'missed period',\n",
       " 'mole increasing size',\n",
       " 'mood change',\n",
       " 'mood swing',\n",
       " 'mouth sore',\n",
       " 'mouth ulcer',\n",
       " 'multiple painful joint',\n",
       " 'muscle ache difficulty breathing',\n",
       " 'muscle cramp',\n",
       " 'muscle joint pain',\n",
       " 'muscle spasm',\n",
       " 'muscle weakness',\n",
       " 'muscle weakness beginning foot hand',\n",
       " 'muscle weakness resulting inability move',\n",
       " 'muscular pain',\n",
       " 'myalgia',\n",
       " 'nausea',\n",
       " 'nausea vomiting',\n",
       " 'nausea vomiting weight loss dehydration occur',\n",
       " 'nearly undetectable spell',\n",
       " 'nearsightedness',\n",
       " 'neck',\n",
       " 'neck stiffness',\n",
       " 'needing urinate often',\n",
       " 'newly inverted nipple',\n",
       " 'non itchy skin ulcer',\n",
       " 'non painful cyst middle eyelid',\n",
       " 'nonaligned eye',\n",
       " 'none non specific',\n",
       " 'numbness',\n",
       " 'object different size eye',\n",
       " 'one eye myopia eye hyperopia',\n",
       " 'opening upper lip may extend nose palate',\n",
       " 'others',\n",
       " 'overlying redness',\n",
       " 'pain along inside edge shinbone',\n",
       " 'pain area',\n",
       " 'pain around ear',\n",
       " 'pain doesnt go shingle',\n",
       " 'pain going leg lower back',\n",
       " 'pain sex',\n",
       " 'pain specific bone',\n",
       " 'painful',\n",
       " 'painful blister lower leg',\n",
       " 'painful heavy period',\n",
       " 'painful joint base big toe',\n",
       " 'painful rash occurring stripe',\n",
       " 'painful skin',\n",
       " 'painful swelling parotid gland',\n",
       " 'painful swollen joint',\n",
       " 'painful tender outer part elbow',\n",
       " 'painless',\n",
       " 'painless lump',\n",
       " 'pale color',\n",
       " 'pale skin',\n",
       " 'pallor',\n",
       " 'paralysis',\n",
       " 'patch thick',\n",
       " 'patch white skin',\n",
       " 'perform certain routine repeatedly',\n",
       " 'period vigorous shaking',\n",
       " 'persistent rough white red patch mouth lasting longer week',\n",
       " 'photophobia',\n",
       " 'physical disability',\n",
       " 'pimple like rash',\n",
       " 'pinkish',\n",
       " 'playing video game extremely long period time',\n",
       " 'poor ability tolerate cold',\n",
       " 'poor appetite',\n",
       " 'poor coordination',\n",
       " 'poor tolerance heat',\n",
       " 'post nasal drip',\n",
       " 'problem language',\n",
       " 'problem mood',\n",
       " 'problem understanding speaking',\n",
       " 'problem vision',\n",
       " 'profuse sweating',\n",
       " 'progressive muscle weakness',\n",
       " 'prolonged',\n",
       " 'prolonged cough',\n",
       " 'prominent',\n",
       " 'protein urine',\n",
       " 'psychosis',\n",
       " 'pulsing pain',\n",
       " 'purple colored skin affected area',\n",
       " 'purple colored skin lesion',\n",
       " 'raised',\n",
       " 'raised red blue lesion',\n",
       " 'random outburst laughter',\n",
       " 'rapid breathing',\n",
       " 'recurring episode wheezing',\n",
       " 'red',\n",
       " 'red eye',\n",
       " 'red purple darker skin',\n",
       " 'red rash',\n",
       " 'red scaly patch skin breast',\n",
       " 'red skin',\n",
       " 'red spot white eye',\n",
       " 'red without blister',\n",
       " 'reddish eye',\n",
       " 'redness',\n",
       " 'redness eye',\n",
       " 'repetitive behavior',\n",
       " 'restricted interest',\n",
       " 'right lower abdominal pain',\n",
       " 'rigidity',\n",
       " 'ringing ear heartbeat',\n",
       " 'rough skin growth',\n",
       " 'runny nose',\n",
       " 'scaly patch skin',\n",
       " 'scratchiness',\n",
       " 'seizure',\n",
       " 'sensitivity smell',\n",
       " 'sensitivity sound',\n",
       " 'severe intellectual disability',\n",
       " 'severe pain',\n",
       " 'severe pain lower back abdomen',\n",
       " 'shakiness',\n",
       " 'shaking',\n",
       " 'sharp chest pain',\n",
       " 'shivering',\n",
       " 'shock like pain one side face last second minute',\n",
       " 'short height',\n",
       " 'short stature',\n",
       " 'shortness breath',\n",
       " 'sit',\n",
       " 'skin blister',\n",
       " 'skin breakdown',\n",
       " 'skin lesion generally pink color project outward',\n",
       " 'skin peeling',\n",
       " 'sleep problem',\n",
       " 'sleeping problem',\n",
       " 'slowness movement',\n",
       " 'small',\n",
       " 'small blister break open form painful ulcer',\n",
       " 'small blister surrounding swelling',\n",
       " 'small face',\n",
       " 'small head',\n",
       " 'small jaw',\n",
       " 'sneezing',\n",
       " 'social withdrawal',\n",
       " 'sometimes symptom',\n",
       " 'sore arm leg',\n",
       " 'sore throat',\n",
       " 'sore wrist',\n",
       " 'stiff muscle',\n",
       " 'stiff neck',\n",
       " 'stiffness',\n",
       " 'stomach pain',\n",
       " 'stroke',\n",
       " 'stuffy itchy nose',\n",
       " 'stunted growth',\n",
       " 'sudden',\n",
       " 'sudden loss muscle strength',\n",
       " 'sweat',\n",
       " 'swell pain near tumor',\n",
       " 'swelling',\n",
       " 'swelling abdomen',\n",
       " 'swelling around eye',\n",
       " 'swelling hand foot',\n",
       " 'swollen',\n",
       " 'swollen hand foot',\n",
       " 'swollen lymph node',\n",
       " 'taste acid',\n",
       " 'temporary fleeting vision one eye',\n",
       " 'tender breast',\n",
       " 'testicular pain',\n",
       " 'tingling',\n",
       " 'tingling hand foot',\n",
       " 'tingling thumb',\n",
       " 'tiredness',\n",
       " 'tooth loss',\n",
       " 'tremor',\n",
       " 'triangular tissue growth cornea',\n",
       " 'trouble breathing nose',\n",
       " 'trouble coordination',\n",
       " 'trouble opening mouth',\n",
       " 'trouble seeing',\n",
       " 'trouble sensation',\n",
       " 'trouble sleeping',\n",
       " 'trouble social interaction',\n",
       " 'trouble speaking',\n",
       " 'trouble swallowing',\n",
       " 'trouble talking',\n",
       " 'trouble walking',\n",
       " 'typically none',\n",
       " 'ulcer',\n",
       " 'ulcer around genitals',\n",
       " 'ulceration',\n",
       " 'unable move',\n",
       " 'unexplained weight loss',\n",
       " 'unintended weight loss',\n",
       " 'unpleasant smell present breath',\n",
       " 'upper abdominal pain',\n",
       " 'usage resulting problem',\n",
       " 'vaginal bleeding',\n",
       " 'vaginal bleeding without pain',\n",
       " 'vaginal discharge',\n",
       " 'variable',\n",
       " 'vary depending part brain involved',\n",
       " 'varying degree muscle weakness',\n",
       " 'velvety skin',\n",
       " 'vision loss',\n",
       " 'vomiting',\n",
       " 'warm',\n",
       " 'wart',\n",
       " 'watery eye',\n",
       " 'weak grip',\n",
       " 'weak muscle',\n",
       " 'weakness limb',\n",
       " 'weakness numbness affected leg',\n",
       " 'webbed neck',\n",
       " 'weight gain',\n",
       " 'wet',\n",
       " 'wheezing',\n",
       " 'white patch vaginal discharge',\n",
       " 'widespread pain',\n",
       " 'withdrawal occurring stopping',\n",
       " 'worrying',\n",
       " 'yellow skin',\n",
       " 'yellowish coloration skin white eye',\n",
       " 'yellowish skin',\n",
       " 'yellowish skin crust']"
      ]
     },
     "execution_count": 134,
     "metadata": {},
     "output_type": "execute_result"
    }
   ],
   "source": [
    "dataset_symptoms"
   ]
  },
  {
   "cell_type": "code",
   "execution_count": null,
   "metadata": {},
   "outputs": [],
   "source": []
  }
 ],
 "metadata": {
  "colab": {
   "include_colab_link": true,
   "provenance": []
  },
  "kernelspec": {
   "display_name": "Python 3 (ipykernel)",
   "language": "python",
   "name": "python3"
  },
  "language_info": {
   "codemirror_mode": {
    "name": "ipython",
    "version": 3
   },
   "file_extension": ".py",
   "mimetype": "text/x-python",
   "name": "python",
   "nbconvert_exporter": "python",
   "pygments_lexer": "ipython3",
   "version": "3.10.5"
  }
 },
 "nbformat": 4,
 "nbformat_minor": 4
}
